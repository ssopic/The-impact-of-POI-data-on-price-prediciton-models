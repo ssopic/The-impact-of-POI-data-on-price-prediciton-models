{
 "cells": [
  {
   "cell_type": "markdown",
   "id": "e0ba122b",
   "metadata": {},
   "source": [
    "# Point of interest"
   ]
  },
  {
   "cell_type": "markdown",
   "id": "f513515d",
   "metadata": {},
   "source": [
    "This notebook presumes that you have completed the previous jupyter notebook and have obtained a \"business table\" containing all of the businesses of a specific type/class(ie. gyms). This notebook creates a distance matrix(note that it takes some time, so the code version is recommended as it is faster and the current progress. Another limitation of this notebook is that it takes only a subset of the data needed to calculate the distance matrix. It is incomplete. To remove this limitation, skip the sampling step. There are two steps; creating the distance matrix using Euclidean distances, and creating variables(as well as joining them to the dataset). "
   ]
  },
  {
   "cell_type": "markdown",
   "id": "21c8342d",
   "metadata": {},
   "source": [
    "## Distance Matrix creation"
   ]
  },
  {
   "cell_type": "markdown",
   "id": "c376da80",
   "metadata": {},
   "source": [
    "This distance matrix features the id's of the various gyms in the region as the row id's. The id's of the real-estate sold are the names of the columns. The values are simply the Euclidean distances between each of those two points. To start we load the two datasets as well as the libraries used."
   ]
  },
  {
   "cell_type": "code",
   "execution_count": 9,
   "id": "5e568ca1",
   "metadata": {},
   "outputs": [
    {
     "data": {
      "text/html": [
       "'C:/Users/silvi/THESIS'"
      ],
      "text/latex": [
       "'C:/Users/silvi/THESIS'"
      ],
      "text/markdown": [
       "'C:/Users/silvi/THESIS'"
      ],
      "text/plain": [
       "[1] \"C:/Users/silvi/THESIS\""
      ]
     },
     "metadata": {},
     "output_type": "display_data"
    },
    {
     "data": {
      "text/html": [
       "20"
      ],
      "text/latex": [
       "20"
      ],
      "text/markdown": [
       "20"
      ],
      "text/plain": [
       "[1] 20"
      ]
     },
     "metadata": {},
     "output_type": "display_data"
    }
   ],
   "source": [
    "KingCounty <- read.csv(\"C://Users//silvi//THESIS//kc_house_data.csv\")\n",
    "BusinessData <- read.csv(\"C://Users//silvi//THESIS//active.csv\")\n",
    "getwd()\n",
    "library(geosphere)\n",
    "library(dplyr)\n",
    "library(tidyr)\n"
   ]
  },
  {
   "cell_type": "markdown",
   "id": "4b9ab61a",
   "metadata": {},
   "source": [
    "Do not run the part below should you wish to obtain the full dataset. "
   ]
  },
  {
   "cell_type": "code",
   "execution_count": null,
   "id": "3359a631",
   "metadata": {},
   "outputs": [],
   "source": [
    "#Get the first 20 rows of each\n",
    "KingCounty <-KingCounty[c(1:20),]\n",
    "BusinessData <-BusinessData[c(1:20),]\n",
    "nrow(KingCounty)"
   ]
  },
  {
   "cell_type": "code",
   "execution_count": null,
   "id": "2cdbbff3",
   "metadata": {},
   "outputs": [],
   "source": [
    "#The distance between the first house and all of the restaurants\n",
    "\n",
    "#Full value\n",
    "#length()\n",
    "dataframe <- data.frame(matrix(ncol=nrow(KingCounty),nrow=nrow(BusinessData)))\n",
    "\n",
    "for(d in 1:nrow(KingCounty)){\n",
    "      \n",
    "      \n",
    "      #The inner loop is done, this will fill out the distances between the first house and ALL of the business objects\n",
    "      distances=vector()\n",
    "      #Full length\n",
    "      #\n",
    "      for(i in 1:nrow(BusinessData)){\n",
    "            DistFirstHouse <- distm(\n",
    "                  y=c(KingCounty$long[d],\n",
    "                      KingCounty$lat[d]),\n",
    "                  x=c(BusinessData$longitude[i],                             BusinessData$latitude[i]),\n",
    "                  fun=distGeo)\n",
    "            distances[i] <- DistFirstHouse \n",
    "      }\n",
    "      DistanceData[d] <- distances\n",
    "      #print(paste0(\"Progress=\",d,\" out of \",nrow(KingCounty)))\n",
    "      ##This should show the progress bar better\n",
    "}\n",
    "\n",
    "names(dataframe) <-KingCounty$id \n",
    "DistanceData$BusinessID <- BusinessData$id\n",
    "DistanceData$BusinessRating <- BusinessData$rating\n",
    "DistanceData$BusinessReviewCount <- BusinessData$review_count"
   ]
  },
  {
   "cell_type": "markdown",
   "id": "3cdb3f21",
   "metadata": {},
   "source": [
    "This completes the creation of the distance matrix. "
   ]
  },
  {
   "cell_type": "code",
   "execution_count": null,
   "id": "6abd6700",
   "metadata": {},
   "outputs": [],
   "source": [
    "head(DistanceData)"
   ]
  },
  {
   "cell_type": "markdown",
   "id": "87e3b91f",
   "metadata": {},
   "source": [
    "# #Feature Creation"
   ]
  },
  {
   "cell_type": "markdown",
   "id": "3203b15c",
   "metadata": {},
   "source": [
    "The code below will create two new features/variables. One will be the count of objects within a 100m range while the other will be their average rating. \n",
    "Some of the real-estate sold is does not have any gyms within a 100m range. In the case of a simple count the result will be a 0. In the case of the average rating the result will not be a number due to the division by zero. Due to that, a value of  -1000 is imputed.  "
   ]
  },
  {
   "cell_type": "code",
   "execution_count": 11,
   "id": "a1e4fc4e",
   "metadata": {},
   "outputs": [
    {
     "name": "stderr",
     "output_type": "stream",
     "text": [
      "Warning message in file(file, \"rt\"):\n",
      "\"cannot open file 'D://THESIS data//Distances//active_distances.csv': No such file or directory\""
     ]
    },
    {
     "ename": "ERROR",
     "evalue": "Error in file(file, \"rt\"): cannot open the connection\n",
     "output_type": "error",
     "traceback": [
      "Error in file(file, \"rt\"): cannot open the connection\nTraceback:\n",
      "1. read.csv(\"D://THESIS data//Distances//active_distances.csv\")",
      "2. read.table(file = file, header = header, sep = sep, quote = quote, \n .     dec = dec, fill = fill, comment.char = comment.char, ...)",
      "3. file(file, \"rt\")"
     ]
    }
   ],
   "source": [
    "#Primary key \"BusinessID\" in both but we will not connect with it but only get the data out\n",
    "#1:1 relation\n",
    "#Get the Business Data\n",
    "BusinessData <- DistanceData[,c(\"BusinessID\",\"BusinessRating\",\"BusinessReviewCount\")]\n",
    "#Get the Distance Data cause we need a diff algorithm\n",
    "#If you have 21617 variables here it probably has \"X\". remove it. You have to end up with 21613\n",
    "DistanceData <- DistanceData[,-which(names(DistanceData) %in% c(\"BusinessRating\",\"BusinessReviewCount\",\"BusinessID\",\"X\"))]\n",
    "\n",
    "####################\n",
    "#KingCounty blw 100\n",
    "###################\n",
    "#First split, searching for real estate that has business distances within 100m and the id's of these businesses\n",
    "blw100 <- data.frame(matrix(ncol=21613,nrow=1))\n",
    "for (i in 1:length(names(DistanceData))){\n",
    "   blw100[i] <- sum(DistanceData[,i]<100)\n",
    "      print(i)\n",
    "      \n",
    "}\n",
    "KingCounty$blw100 <- t(blw100)\n",
    "\n",
    "\n",
    "\n",
    "#This is the average rating\n",
    "blw100AvgRating <- data.frame(matrix(ncol=21613, nrow=1))\n",
    "names(blw100AvgRating) <- names(DistanceData)\n",
    "index <- logical()\n",
    "for (i in 1:length(names(DistanceData))){\n",
    "   index <-ifelse(DistanceData[,i]<100,TRUE,FALSE)\n",
    "   blw100AvgRating[i] <- mean(BusinessData$BusinessRating[index])\n",
    "   index <- logical()\n",
    "   \n",
    "}\n",
    "\n",
    "#This transformation turns the NaN's into -1000\n",
    "x <- as.data.frame(t(blw100AvgRating))\n",
    "#Turning the NA's to zeroes\n",
    "a <- matrix(t(x))\n",
    "a[is.nan(a)] <- -1000\n",
    "\n",
    "KingCounty$blw100AvgRating <-a\n"
   ]
  }
 ],
 "metadata": {
  "kernelspec": {
   "display_name": "R",
   "language": "R",
   "name": "ir"
  },
  "language_info": {
   "codemirror_mode": "r",
   "file_extension": ".r",
   "mimetype": "text/x-r-source",
   "name": "R",
   "pygments_lexer": "r",
   "version": "3.6.1"
  }
 },
 "nbformat": 4,
 "nbformat_minor": 5
}
