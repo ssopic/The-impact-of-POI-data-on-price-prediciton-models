{
 "cells": [
  {
   "cell_type": "markdown",
   "metadata": {},
   "source": [
    "# Business data collection"
   ]
  },
  {
   "cell_type": "markdown",
   "metadata": {},
   "source": [
    "First we start with connecting to the yelp database. For that a client_id and client_secret are needed. Then we use them to get the token from the yelp server."
   ]
  },
  {
   "cell_type": "code",
   "execution_count": 13,
   "metadata": {},
   "outputs": [
    {
     "data": {
      "text/html": [
       "'C:/Users/silvi/THESIS'"
      ],
      "text/latex": [
       "'C:/Users/silvi/THESIS'"
      ],
      "text/markdown": [
       "'C:/Users/silvi/THESIS'"
      ],
      "text/plain": [
       "[1] \"C:/Users/silvi/THESIS\""
      ]
     },
     "metadata": {},
     "output_type": "display_data"
    }
   ],
   "source": [
    "getwd()\n",
    "\n",
    "library(tidyverse)\n",
    "library(httr)\n",
    "client_id <- \"shofkopf0s8wJgn39reBxA\"\n",
    "client_secret <- \"TeW2z6E7Yr7IWmVsLtv7nBh228aQonZXA4PzQjZagb28dmC6cjJrzPrUwihPzxTpmNeuz5aXA3V1pqvUnD0ptHcWN-AeRrj83ZyrZwXR4D2oh-35kieHr8ZE2vkjYHYx\"\n",
    "res <- POST(\"https://api.yelp.com/oauth2/token\",\n",
    "            body = list(grant_type = \"client_credentials\",\n",
    "                        client_id = client_id,\n",
    "                        client_secret = client_secret))\n",
    "\n",
    "token <- content(res)$access_token"
   ]
  },
  {
   "cell_type": "markdown",
   "metadata": {},
   "source": [
    "Afterwards we set the search parameters:"
   ]
  },
  {
   "cell_type": "code",
   "execution_count": 14,
   "metadata": {},
   "outputs": [],
   "source": [
    "yelp <- \"https://api.yelp.com\"\n",
    "#We are using the attributes from yelp so keep term an empty string\n",
    "term <- \"\""
   ]
  },
  {
   "cell_type": "markdown",
   "metadata": {},
   "source": [
    "[Category list] (https://www.yelp.com/developers/documentation/v3/all_category_list)\n",
    "For this demo we use hotels"
   ]
  },
  {
   "cell_type": "markdown",
   "metadata": {},
   "source": [
    "# Change the \"active\" into any category from the list above. \n",
    "There are 156 parent categories and children I did not count. "
   ]
  },
  {
   "cell_type": "code",
   "execution_count": 15,
   "metadata": {},
   "outputs": [],
   "source": [
    "categories <- list(\"auto\")"
   ]
  },
  {
   "cell_type": "markdown",
   "metadata": {},
   "source": [
    "Other standard settings:"
   ]
  },
  {
   "cell_type": "code",
   "execution_count": 16,
   "metadata": {},
   "outputs": [],
   "source": [
    "limit <- 50\n",
    "radius <- 4000"
   ]
  },
  {
   "cell_type": "markdown",
   "metadata": {},
   "source": [
    "Creating the URL request"
   ]
  },
  {
   "cell_type": "code",
   "execution_count": 17,
   "metadata": {},
   "outputs": [
    {
     "data": {
      "text/html": [
       "'https://api.yelp.com/v3/businesses/search?term=&amp;latitude=47.5112&amp;longitude=-122.257&amp;limit=50&amp;categories=auto&amp;radius=4000'"
      ],
      "text/latex": [
       "'https://api.yelp.com/v3/businesses/search?term=\\&latitude=47.5112\\&longitude=-122.257\\&limit=50\\&categories=auto\\&radius=4000'"
      ],
      "text/markdown": [
       "'https://api.yelp.com/v3/businesses/search?term=&amp;latitude=47.5112&amp;longitude=-122.257&amp;limit=50&amp;categories=auto&amp;radius=4000'"
      ],
      "text/plain": [
       "[1] \"https://api.yelp.com/v3/businesses/search?term=&latitude=47.5112&longitude=-122.257&limit=50&categories=auto&radius=4000\""
      ]
     },
     "metadata": {},
     "output_type": "display_data"
    },
    {
     "name": "stdout",
     "output_type": "stream",
     "text": [
      "[1] https://api.yelp.com/v3/businesses/search?term=&latitude=47.5112&longitude=-122.257&limit=50&categories=auto&radius=4000\n",
      "Levels: https://api.yelp.com/v3/businesses/search?term=&latitude=47.5112&longitude=-122.257&limit=50&categories=auto&radius=4000\n"
     ]
    }
   ],
   "source": [
    "url <- modify_url(yelp, path = c(\"v3\", \"businesses\", \"search\"),\n",
    "                  query = list(term = term, \n",
    "               latitude=\"47.5112\", \n",
    "               longitude=\"-122.257\",        \n",
    "               limit = limit,\n",
    "               categories=categories,\n",
    "               radius = radius))\n",
    "\n",
    "url\n",
    "string <- as.character(url)\n",
    "\n",
    "#We have 21613 lat/long couplings so we need the dataframe to be repeated 21613 times\n",
    "\n",
    "urlData <- as.data.frame(replicate(21613,url))\n",
    "\n",
    "print(urlData[1,1])"
   ]
  },
  {
   "cell_type": "markdown",
   "metadata": {},
   "source": [
    "![alt text]( StructureURL.png \"url structurepng.png\")"
   ]
  },
  {
   "cell_type": "markdown",
   "metadata": {},
   "source": [
    "Super simple. Just change the the latitude and longitude values of the randomly generated search term and replace it with the desired latitude and longitudes."
   ]
  },
  {
   "cell_type": "code",
   "execution_count": 18,
   "metadata": {},
   "outputs": [
    {
     "data": {
      "text/html": [
       "<ol class=list-inline>\n",
       "\t<li>'https://api.yelp.com/v3/businesses/search?term=&amp;latitude=47.7366&amp;longitude=-121.958&amp;limit=50&amp;categories=auto&amp;radius=4000'</li>\n",
       "\t<li>'https://api.yelp.com/v3/businesses/search?term=&amp;latitude=47.6503&amp;longitude=-121.968&amp;limit=50&amp;categories=auto&amp;radius=4000'</li>\n",
       "\t<li>'https://api.yelp.com/v3/businesses/search?term=&amp;latitude=47.5672&amp;longitude=-122.161&amp;limit=50&amp;categories=auto&amp;radius=4000'</li>\n",
       "\t<li>'https://api.yelp.com/v3/businesses/search?term=&amp;latitude=47.5526&amp;longitude=-122.102&amp;limit=50&amp;categories=auto&amp;radius=4000'</li>\n",
       "\t<li>'https://api.yelp.com/v3/businesses/search?term=&amp;latitude=47.7061&amp;longitude=-122.307&amp;limit=50&amp;categories=auto&amp;radius=4000'</li>\n",
       "\t<li>'https://api.yelp.com/v3/businesses/search?term=&amp;latitude=47.2883&amp;longitude=-122.272&amp;limit=50&amp;categories=auto&amp;radius=4000'</li>\n",
       "</ol>\n"
      ],
      "text/latex": [
       "\\begin{enumerate*}\n",
       "\\item 'https://api.yelp.com/v3/businesses/search?term=\\&latitude=47.7366\\&longitude=-121.958\\&limit=50\\&categories=auto\\&radius=4000'\n",
       "\\item 'https://api.yelp.com/v3/businesses/search?term=\\&latitude=47.6503\\&longitude=-121.968\\&limit=50\\&categories=auto\\&radius=4000'\n",
       "\\item 'https://api.yelp.com/v3/businesses/search?term=\\&latitude=47.5672\\&longitude=-122.161\\&limit=50\\&categories=auto\\&radius=4000'\n",
       "\\item 'https://api.yelp.com/v3/businesses/search?term=\\&latitude=47.5526\\&longitude=-122.102\\&limit=50\\&categories=auto\\&radius=4000'\n",
       "\\item 'https://api.yelp.com/v3/businesses/search?term=\\&latitude=47.7061\\&longitude=-122.307\\&limit=50\\&categories=auto\\&radius=4000'\n",
       "\\item 'https://api.yelp.com/v3/businesses/search?term=\\&latitude=47.2883\\&longitude=-122.272\\&limit=50\\&categories=auto\\&radius=4000'\n",
       "\\end{enumerate*}\n"
      ],
      "text/markdown": [
       "1. 'https://api.yelp.com/v3/businesses/search?term=&amp;latitude=47.7366&amp;longitude=-121.958&amp;limit=50&amp;categories=auto&amp;radius=4000'\n",
       "2. 'https://api.yelp.com/v3/businesses/search?term=&amp;latitude=47.6503&amp;longitude=-121.968&amp;limit=50&amp;categories=auto&amp;radius=4000'\n",
       "3. 'https://api.yelp.com/v3/businesses/search?term=&amp;latitude=47.5672&amp;longitude=-122.161&amp;limit=50&amp;categories=auto&amp;radius=4000'\n",
       "4. 'https://api.yelp.com/v3/businesses/search?term=&amp;latitude=47.5526&amp;longitude=-122.102&amp;limit=50&amp;categories=auto&amp;radius=4000'\n",
       "5. 'https://api.yelp.com/v3/businesses/search?term=&amp;latitude=47.7061&amp;longitude=-122.307&amp;limit=50&amp;categories=auto&amp;radius=4000'\n",
       "6. 'https://api.yelp.com/v3/businesses/search?term=&amp;latitude=47.2883&amp;longitude=-122.272&amp;limit=50&amp;categories=auto&amp;radius=4000'\n",
       "\n",
       "\n"
      ],
      "text/plain": [
       "[1] \"https://api.yelp.com/v3/businesses/search?term=&latitude=47.7366&longitude=-121.958&limit=50&categories=auto&radius=4000\"\n",
       "[2] \"https://api.yelp.com/v3/businesses/search?term=&latitude=47.6503&longitude=-121.968&limit=50&categories=auto&radius=4000\"\n",
       "[3] \"https://api.yelp.com/v3/businesses/search?term=&latitude=47.5672&longitude=-122.161&limit=50&categories=auto&radius=4000\"\n",
       "[4] \"https://api.yelp.com/v3/businesses/search?term=&latitude=47.5526&longitude=-122.102&limit=50&categories=auto&radius=4000\"\n",
       "[5] \"https://api.yelp.com/v3/businesses/search?term=&latitude=47.7061&longitude=-122.307&limit=50&categories=auto&radius=4000\"\n",
       "[6] \"https://api.yelp.com/v3/businesses/search?term=&latitude=47.2883&longitude=-122.272&limit=50&categories=auto&radius=4000\""
      ]
     },
     "metadata": {},
     "output_type": "display_data"
    }
   ],
   "source": [
    "library(stringr)\n",
    "url_string_one <- as.character(str_split_fixed(url, \"47.5112\",2))\n",
    "\n",
    "KingCounty <- read.csv(\"C://Users//silvi//THESIS//kc_house_data.csv\")\n",
    "Longitude <- data_frame(KingCounty$long)\n",
    "\n",
    "Longitude$url_string_one <- url_string_one[1]\n",
    "Longitude$andlongitude <- \"&longitude=\"\n",
    "Longitude$latitude <- KingCounty$lat\n",
    "Longitude$final <- as.character(str_split_fixed(url, \"-122.257\",2))[2]\n",
    "FINALLISTOFURL <- data.frame(paste(Longitude$url_string_one, Longitude$latitude, Longitude$andlongitude, Longitude$`KingCounty$long`,Longitude$final))\n",
    "names(FINALLISTOFURL) <- \"url\"\n",
    "FINALLISTOFURL$url <- gsub(\" \",\"\",FINALLISTOFURL$url)\n",
    "FINALLISTOFURL <-FINALLISTOFURL[-26]\n",
    "set.seed(123)\n",
    "FINALLISTOFURL <- FINALLISTOFURL[sample(1:nrow(FINALLISTOFURL)), ]\n",
    "head(FINALLISTOFURL)"
   ]
  },
  {
   "cell_type": "markdown",
   "metadata": {},
   "source": [
    "After cutting out and pasting the elements of the query we get a final list of 21613 URL's. "
   ]
  },
  {
   "cell_type": "code",
   "execution_count": 19,
   "metadata": {
    "scrolled": true
   },
   "outputs": [
    {
     "data": {
      "text/html": [
       "<ol class=list-inline>\n",
       "\t<li>'https://api.yelp.com/v3/businesses/search?term=&amp;latitude=47.7366&amp;longitude=-121.958&amp;limit=50&amp;categories=auto&amp;radius=4000'</li>\n",
       "\t<li>'https://api.yelp.com/v3/businesses/search?term=&amp;latitude=47.6503&amp;longitude=-121.968&amp;limit=50&amp;categories=auto&amp;radius=4000'</li>\n",
       "\t<li>'https://api.yelp.com/v3/businesses/search?term=&amp;latitude=47.5672&amp;longitude=-122.161&amp;limit=50&amp;categories=auto&amp;radius=4000'</li>\n",
       "\t<li>'https://api.yelp.com/v3/businesses/search?term=&amp;latitude=47.5526&amp;longitude=-122.102&amp;limit=50&amp;categories=auto&amp;radius=4000'</li>\n",
       "\t<li>'https://api.yelp.com/v3/businesses/search?term=&amp;latitude=47.7061&amp;longitude=-122.307&amp;limit=50&amp;categories=auto&amp;radius=4000'</li>\n",
       "\t<li>'https://api.yelp.com/v3/businesses/search?term=&amp;latitude=47.2883&amp;longitude=-122.272&amp;limit=50&amp;categories=auto&amp;radius=4000'</li>\n",
       "\t<li>'https://api.yelp.com/v3/businesses/search?term=&amp;latitude=47.6203&amp;longitude=-122.149&amp;limit=50&amp;categories=auto&amp;radius=4000'</li>\n",
       "\t<li>'https://api.yelp.com/v3/businesses/search?term=&amp;latitude=47.2843&amp;longitude=-122.357&amp;limit=50&amp;categories=auto&amp;radius=4000'</li>\n",
       "\t<li>'https://api.yelp.com/v3/businesses/search?term=&amp;latitude=47.7642&amp;longitude=-122.264&amp;limit=50&amp;categories=auto&amp;radius=4000'</li>\n",
       "\t<li>'https://api.yelp.com/v3/businesses/search?term=&amp;latitude=47.4716&amp;longitude=-121.756&amp;limit=50&amp;categories=auto&amp;radius=4000'</li>\n",
       "\t<li>'https://api.yelp.com/v3/businesses/search?term=&amp;latitude=47.4593&amp;longitude=-122.134&amp;limit=50&amp;categories=auto&amp;radius=4000'</li>\n",
       "\t<li>'https://api.yelp.com/v3/businesses/search?term=&amp;latitude=47.3273&amp;longitude=-122.37&amp;limit=50&amp;categories=auto&amp;radius=4000'</li>\n",
       "\t<li>'https://api.yelp.com/v3/businesses/search?term=&amp;latitude=47.5557&amp;longitude=-122.28&amp;limit=50&amp;categories=auto&amp;radius=4000'</li>\n",
       "\t<li>'https://api.yelp.com/v3/businesses/search?term=&amp;latitude=47.7674&amp;longitude=-122.086&amp;limit=50&amp;categories=auto&amp;radius=4000'</li>\n",
       "\t<li>'https://api.yelp.com/v3/businesses/search?term=&amp;latitude=47.6875&amp;longitude=-122.122&amp;limit=50&amp;categories=auto&amp;radius=4000'</li>\n",
       "</ol>\n"
      ],
      "text/latex": [
       "\\begin{enumerate*}\n",
       "\\item 'https://api.yelp.com/v3/businesses/search?term=\\&latitude=47.7366\\&longitude=-121.958\\&limit=50\\&categories=auto\\&radius=4000'\n",
       "\\item 'https://api.yelp.com/v3/businesses/search?term=\\&latitude=47.6503\\&longitude=-121.968\\&limit=50\\&categories=auto\\&radius=4000'\n",
       "\\item 'https://api.yelp.com/v3/businesses/search?term=\\&latitude=47.5672\\&longitude=-122.161\\&limit=50\\&categories=auto\\&radius=4000'\n",
       "\\item 'https://api.yelp.com/v3/businesses/search?term=\\&latitude=47.5526\\&longitude=-122.102\\&limit=50\\&categories=auto\\&radius=4000'\n",
       "\\item 'https://api.yelp.com/v3/businesses/search?term=\\&latitude=47.7061\\&longitude=-122.307\\&limit=50\\&categories=auto\\&radius=4000'\n",
       "\\item 'https://api.yelp.com/v3/businesses/search?term=\\&latitude=47.2883\\&longitude=-122.272\\&limit=50\\&categories=auto\\&radius=4000'\n",
       "\\item 'https://api.yelp.com/v3/businesses/search?term=\\&latitude=47.6203\\&longitude=-122.149\\&limit=50\\&categories=auto\\&radius=4000'\n",
       "\\item 'https://api.yelp.com/v3/businesses/search?term=\\&latitude=47.2843\\&longitude=-122.357\\&limit=50\\&categories=auto\\&radius=4000'\n",
       "\\item 'https://api.yelp.com/v3/businesses/search?term=\\&latitude=47.7642\\&longitude=-122.264\\&limit=50\\&categories=auto\\&radius=4000'\n",
       "\\item 'https://api.yelp.com/v3/businesses/search?term=\\&latitude=47.4716\\&longitude=-121.756\\&limit=50\\&categories=auto\\&radius=4000'\n",
       "\\item 'https://api.yelp.com/v3/businesses/search?term=\\&latitude=47.4593\\&longitude=-122.134\\&limit=50\\&categories=auto\\&radius=4000'\n",
       "\\item 'https://api.yelp.com/v3/businesses/search?term=\\&latitude=47.3273\\&longitude=-122.37\\&limit=50\\&categories=auto\\&radius=4000'\n",
       "\\item 'https://api.yelp.com/v3/businesses/search?term=\\&latitude=47.5557\\&longitude=-122.28\\&limit=50\\&categories=auto\\&radius=4000'\n",
       "\\item 'https://api.yelp.com/v3/businesses/search?term=\\&latitude=47.7674\\&longitude=-122.086\\&limit=50\\&categories=auto\\&radius=4000'\n",
       "\\item 'https://api.yelp.com/v3/businesses/search?term=\\&latitude=47.6875\\&longitude=-122.122\\&limit=50\\&categories=auto\\&radius=4000'\n",
       "\\end{enumerate*}\n"
      ],
      "text/markdown": [
       "1. 'https://api.yelp.com/v3/businesses/search?term=&amp;latitude=47.7366&amp;longitude=-121.958&amp;limit=50&amp;categories=auto&amp;radius=4000'\n",
       "2. 'https://api.yelp.com/v3/businesses/search?term=&amp;latitude=47.6503&amp;longitude=-121.968&amp;limit=50&amp;categories=auto&amp;radius=4000'\n",
       "3. 'https://api.yelp.com/v3/businesses/search?term=&amp;latitude=47.5672&amp;longitude=-122.161&amp;limit=50&amp;categories=auto&amp;radius=4000'\n",
       "4. 'https://api.yelp.com/v3/businesses/search?term=&amp;latitude=47.5526&amp;longitude=-122.102&amp;limit=50&amp;categories=auto&amp;radius=4000'\n",
       "5. 'https://api.yelp.com/v3/businesses/search?term=&amp;latitude=47.7061&amp;longitude=-122.307&amp;limit=50&amp;categories=auto&amp;radius=4000'\n",
       "6. 'https://api.yelp.com/v3/businesses/search?term=&amp;latitude=47.2883&amp;longitude=-122.272&amp;limit=50&amp;categories=auto&amp;radius=4000'\n",
       "7. 'https://api.yelp.com/v3/businesses/search?term=&amp;latitude=47.6203&amp;longitude=-122.149&amp;limit=50&amp;categories=auto&amp;radius=4000'\n",
       "8. 'https://api.yelp.com/v3/businesses/search?term=&amp;latitude=47.2843&amp;longitude=-122.357&amp;limit=50&amp;categories=auto&amp;radius=4000'\n",
       "9. 'https://api.yelp.com/v3/businesses/search?term=&amp;latitude=47.7642&amp;longitude=-122.264&amp;limit=50&amp;categories=auto&amp;radius=4000'\n",
       "10. 'https://api.yelp.com/v3/businesses/search?term=&amp;latitude=47.4716&amp;longitude=-121.756&amp;limit=50&amp;categories=auto&amp;radius=4000'\n",
       "11. 'https://api.yelp.com/v3/businesses/search?term=&amp;latitude=47.4593&amp;longitude=-122.134&amp;limit=50&amp;categories=auto&amp;radius=4000'\n",
       "12. 'https://api.yelp.com/v3/businesses/search?term=&amp;latitude=47.3273&amp;longitude=-122.37&amp;limit=50&amp;categories=auto&amp;radius=4000'\n",
       "13. 'https://api.yelp.com/v3/businesses/search?term=&amp;latitude=47.5557&amp;longitude=-122.28&amp;limit=50&amp;categories=auto&amp;radius=4000'\n",
       "14. 'https://api.yelp.com/v3/businesses/search?term=&amp;latitude=47.7674&amp;longitude=-122.086&amp;limit=50&amp;categories=auto&amp;radius=4000'\n",
       "15. 'https://api.yelp.com/v3/businesses/search?term=&amp;latitude=47.6875&amp;longitude=-122.122&amp;limit=50&amp;categories=auto&amp;radius=4000'\n",
       "\n",
       "\n"
      ],
      "text/plain": [
       " [1] \"https://api.yelp.com/v3/businesses/search?term=&latitude=47.7366&longitude=-121.958&limit=50&categories=auto&radius=4000\"\n",
       " [2] \"https://api.yelp.com/v3/businesses/search?term=&latitude=47.6503&longitude=-121.968&limit=50&categories=auto&radius=4000\"\n",
       " [3] \"https://api.yelp.com/v3/businesses/search?term=&latitude=47.5672&longitude=-122.161&limit=50&categories=auto&radius=4000\"\n",
       " [4] \"https://api.yelp.com/v3/businesses/search?term=&latitude=47.5526&longitude=-122.102&limit=50&categories=auto&radius=4000\"\n",
       " [5] \"https://api.yelp.com/v3/businesses/search?term=&latitude=47.7061&longitude=-122.307&limit=50&categories=auto&radius=4000\"\n",
       " [6] \"https://api.yelp.com/v3/businesses/search?term=&latitude=47.2883&longitude=-122.272&limit=50&categories=auto&radius=4000\"\n",
       " [7] \"https://api.yelp.com/v3/businesses/search?term=&latitude=47.6203&longitude=-122.149&limit=50&categories=auto&radius=4000\"\n",
       " [8] \"https://api.yelp.com/v3/businesses/search?term=&latitude=47.2843&longitude=-122.357&limit=50&categories=auto&radius=4000\"\n",
       " [9] \"https://api.yelp.com/v3/businesses/search?term=&latitude=47.7642&longitude=-122.264&limit=50&categories=auto&radius=4000\"\n",
       "[10] \"https://api.yelp.com/v3/businesses/search?term=&latitude=47.4716&longitude=-121.756&limit=50&categories=auto&radius=4000\"\n",
       "[11] \"https://api.yelp.com/v3/businesses/search?term=&latitude=47.4593&longitude=-122.134&limit=50&categories=auto&radius=4000\"\n",
       "[12] \"https://api.yelp.com/v3/businesses/search?term=&latitude=47.3273&longitude=-122.37&limit=50&categories=auto&radius=4000\" \n",
       "[13] \"https://api.yelp.com/v3/businesses/search?term=&latitude=47.5557&longitude=-122.28&limit=50&categories=auto&radius=4000\" \n",
       "[14] \"https://api.yelp.com/v3/businesses/search?term=&latitude=47.7674&longitude=-122.086&limit=50&categories=auto&radius=4000\"\n",
       "[15] \"https://api.yelp.com/v3/businesses/search?term=&latitude=47.6875&longitude=-122.122&limit=50&categories=auto&radius=4000\""
      ]
     },
     "metadata": {},
     "output_type": "display_data"
    }
   ],
   "source": [
    "FINALLISTOFURL[c(1:15)]"
   ]
  },
  {
   "cell_type": "markdown",
   "metadata": {},
   "source": [
    "We use a helper function to get the list type format into the dataframe format\n",
    "#function from Bill Petti: https://billpetti.github.io/"
   ]
  },
  {
   "cell_type": "code",
   "execution_count": 20,
   "metadata": {},
   "outputs": [],
   "source": [
    "yelp_httr_parse <- function(x) {\n",
    "   parse_list <- list(\n",
    "      id = x$id, \n",
    "      name = x$name, \n",
    "      rating = x$rating, \n",
    "      review_count = x$review_count, \n",
    "      latitude = x$coordinates$latitude, \n",
    "      longitude = x$coordinates$longitude, \n",
    "      address1 = x$location$address1, \n",
    "      city = x$location$city, \n",
    "      state = x$location$state, \n",
    "      distance = x$distance)\n",
    "   \n",
    "   parse_list <- lapply(parse_list, FUN = function(x) ifelse(is.null(x), \"\", x))\n",
    "   \n",
    "   df <- data_frame(\n",
    "      id=parse_list$id,\n",
    "      name=parse_list$name, \n",
    "      rating = parse_list$rating, \n",
    "      review_count = parse_list$review_count, \n",
    "      latitude=parse_list$latitude, \n",
    "      longitude = parse_list$longitude, \n",
    "      address1 = parse_list$address1, \n",
    "      city = parse_list$city, \n",
    "      state = parse_list$state, \n",
    "      distance= parse_list$distance)\n",
    "   df\n",
    "}"
   ]
  },
  {
   "cell_type": "code",
   "execution_count": 21,
   "metadata": {},
   "outputs": [
    {
     "ename": "ERROR",
     "evalue": "Error: Can't combine `..1$latitude` <character> and `..2$latitude` <double>.\n",
     "output_type": "error",
     "traceback": [
      "Error: Can't combine `..1$latitude` <character> and `..2$latitude` <double>.\nTraceback:\n",
      "1. bind_rows(Business_data, Business_data_Total, .id = NULL)",
      "2. vec_rbind(!!!dots, .names_to = .id)",
      "3. (function () \n . vec_default_ptype2(x = x, y = y, x_arg = x_arg, y_arg = y_arg, \n .     `vctrs:::from_dispatch` = `vctrs:::from_dispatch`, `vctrs:::df_fallback` = `vctrs:::df_fallback`, \n .     `vctrs:::s3_fallback` = `vctrs:::s3_fallback`))()",
      "4. vec_default_ptype2(x = x, y = y, x_arg = x_arg, y_arg = y_arg, \n .     `vctrs:::from_dispatch` = `vctrs:::from_dispatch`, `vctrs:::df_fallback` = `vctrs:::df_fallback`, \n .     `vctrs:::s3_fallback` = `vctrs:::s3_fallback`)",
      "5. stop_incompatible_type(x, y, x_arg = x_arg, y_arg = y_arg, `vctrs:::from_dispatch` = match_from_dispatch(...))",
      "6. stop_incompatible(x, y, x_arg = x_arg, y_arg = y_arg, details = details, \n .     ..., message = message, class = c(class, \"vctrs_error_incompatible_type\"))",
      "7. stop_vctrs(message, class = c(class, \"vctrs_error_incompatible\"), \n .     x = x, y = y, details = details, ...)",
      "8. abort(message, class = c(class, \"vctrs_error\"), ...)",
      "9. signal_abort(cnd)"
     ]
    }
   ],
   "source": [
    "library(httr)\n",
    "library(jsonlite)\n",
    "library(dplyr)\n",
    "Business_data_Total <- list()\n",
    "for(i in 1:5000){\n",
    "#Get the url through the number in the dataframe\n",
    "   requestURL <- FINALLISTOFURL[i]\n",
    "#Actually get thhe requested URL\n",
    "   fetched <- GET(url = requestURL,\n",
    "      add_headers('Authorization' = paste(\"bearer\", client_secret))\n",
    "   )\n",
    "#The transformation and the helper function to parse it(helper found later in the text)\n",
    "   Business <- content(fetched)\n",
    "   Business_list <- lapply(Business$businesses, FUN = yelp_httr_parse)\n",
    "   Business_data <- do.call(\"rbind\", Business_list)\n",
    "   Business_data_Total <- bind_rows(Business_data,Business_data_Total, .id = NULL)\n",
    "\n",
    "}\n",
    "Business_data_Total_hotels <- Business_data_Total\n",
    "typeof(Business_data)\n",
    "typeof(Business_data_Total)\n",
    "names(Business_data_Total)\n",
    "names(Business_data)\n",
    "\n",
    "\n"
   ]
  },
  {
   "cell_type": "markdown",
   "metadata": {},
   "source": [
    "# Here you need to change the name to  match the variable we are saving cause we will have to connect all of these together."
   ]
  },
  {
   "cell_type": "code",
   "execution_count": 10,
   "metadata": {},
   "outputs": [
    {
     "data": {
      "text/html": [
       "145015"
      ],
      "text/latex": [
       "145015"
      ],
      "text/markdown": [
       "145015"
      ],
      "text/plain": [
       "[1] 145015"
      ]
     },
     "metadata": {},
     "output_type": "display_data"
    }
   ],
   "source": [
    "#I want to check if there are duplicates\n",
    "sum(duplicated(Business_data_Total$id))"
   ]
  },
  {
   "cell_type": "markdown",
   "metadata": {},
   "source": [
    "We have plenty of duplicates so we just need to remove them and get the dataset out"
   ]
  },
  {
   "cell_type": "code",
   "execution_count": 11,
   "metadata": {},
   "outputs": [
    {
     "data": {
      "text/html": [
       "1041"
      ],
      "text/latex": [
       "1041"
      ],
      "text/markdown": [
       "1041"
      ],
      "text/plain": [
       "[1] 1041"
      ]
     },
     "metadata": {},
     "output_type": "display_data"
    }
   ],
   "source": [
    "Business <-Business_data_Total[,-10]\n",
    "Final_data <- distinct(Business_data_Total)\n",
    "nlevels(as.factor(Final_data$id))\n"
   ]
  },
  {
   "cell_type": "markdown",
   "metadata": {},
   "source": [
    "Do not forget to change the name of the final document to the name of the category"
   ]
  },
  {
   "cell_type": "code",
   "execution_count": 12,
   "metadata": {},
   "outputs": [],
   "source": [
    "write.csv(Final_data,\"data//auto.csv\")"
   ]
  }
 ],
 "metadata": {
  "kernelspec": {
   "display_name": "R",
   "language": "R",
   "name": "ir"
  },
  "language_info": {
   "codemirror_mode": "r",
   "file_extension": ".r",
   "mimetype": "text/x-r-source",
   "name": "R",
   "pygments_lexer": "r",
   "version": "3.6.1"
  }
 },
 "nbformat": 4,
 "nbformat_minor": 2
}
